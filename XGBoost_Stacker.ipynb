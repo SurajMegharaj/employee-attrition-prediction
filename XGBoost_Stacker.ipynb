{
 "cells": [
  {
   "cell_type": "markdown",
   "metadata": {},
   "source": [
    "# IBM HR Employee Attrition\n",
    "#### @ Author - Mohammed\n",
    "**** [Website](https://datascience52.wordpress.com/) | [Github](https://github.com/mmd52) | [LinkedIn](https://www.linkedin.com/in/mohammedtopiwalla) ****\n",
    "\n",
    "### Stacking a decsion tree on Xgboost"
   ]
  },
  {
   "cell_type": "code",
   "execution_count": 1,
   "metadata": {},
   "outputs": [
    {
     "name": "stdout",
     "output_type": "stream",
     "text": [
      "==================== BLOCK 1 Started! ======================\n"
     ]
    },
    {
     "name": "stderr",
     "output_type": "stream",
     "text": [
      "C:\\Users\\moham\\Anaconda3\\lib\\site-packages\\sklearn\\cross_validation.py:41: DeprecationWarning: This module was deprecated in version 0.18 in favor of the model_selection module into which all the refactored classes and functions are moved. Also note that the interface of the new CV iterators are different from that of this module. This module will be removed in 0.20.\n",
      "  \"This module will be removed in 0.20.\", DeprecationWarning)\n"
     ]
    },
    {
     "name": "stdout",
     "output_type": "stream",
     "text": [
      "==================== Packages Loaded ======================\n"
     ]
    }
   ],
   "source": [
    "#Loading all Packages\n",
    "print(\"==================== BLOCK 1 Started! ======================\")\n",
    "import warnings\n",
    "warnings.filterwarnings('ignore')\n",
    "import pandas as pd\n",
    "pd.options.display.max_rows=10\n",
    "pd.options.display.max_columns=50\n",
    "import numpy as np\n",
    "import time\n",
    "import sklearn\n",
    "import xgboost as xgb\n",
    "from sklearn.cross_validation import train_test_split, cross_val_score\n",
    "from sklearn.metrics import roc_curve,auc\n",
    "import matplotlib.pyplot as plt\n",
    "from sklearn.metrics import confusion_matrix, classification_report, precision_score\n",
    "from sklearn import datasets\n",
    "from sklearn.model_selection import cross_val_score\n",
    "%matplotlib inline\n",
    "r_state=52\n",
    "import warnings\n",
    "warnings.filterwarnings('ignore')\n",
    "from sklearn.externals.six import StringIO  \n",
    "from IPython.display import Image  \n",
    "from sklearn.tree import export_graphviz\n",
    "import pydotplus\n",
    "from sklearn import tree\n",
    "from sklearn.cross_validation import train_test_split, cross_val_score\n",
    "from sklearn.metrics import roc_curve,auc\n",
    "import matplotlib.pyplot as plt\n",
    "from sklearn.metrics import confusion_matrix, classification_report, precision_score\n",
    "from sklearn import datasets\n",
    "from sklearn.model_selection import cross_val_score\n",
    "import os     \n",
    "os.environ[\"PATH\"] += os.pathsep + 'C:\\Program Files (x86)\\Graphviz2.38\\bin'\n",
    "%matplotlib inline\n",
    "r_state=52\n",
    "import warnings\n",
    "warnings.filterwarnings('ignore')\n",
    "print(\"==================== Packages Loaded ======================\")"
   ]
  },
  {
   "cell_type": "code",
   "execution_count": 2,
   "metadata": {},
   "outputs": [
    {
     "name": "stdout",
     "output_type": "stream",
     "text": [
      "==================== Data Loading ======================\n",
      "==================== Data Loaded In ======================\n",
      "Duration: --- 0.0015815059343973795 Minutes ---\n",
      "(1470, 51)\n"
     ]
    }
   ],
   "source": [
    "print(\"==================== Data Loading ======================\")\n",
    "start_time = time.time()\n",
    "df=pd.read_csv('MainEncodedData.csv')\n",
    "del df['Unnamed: 0']\n",
    "print(\"==================== Data Loaded In ======================\")\n",
    "print(\"Duration: --- %s Minutes ---\" % ((time.time() - start_time)/60))\n",
    "print(df.shape)"
   ]
  },
  {
   "cell_type": "code",
   "execution_count": 3,
   "metadata": {},
   "outputs": [
    {
     "name": "stdout",
     "output_type": "stream",
     "text": [
      "For Main Data Set : 1470\n",
      "For Train Set : 1102\n",
      "For Test Set : 368\n"
     ]
    }
   ],
   "source": [
    "train, test = sklearn.cross_validation.train_test_split(df, train_size = 0.75,random_state=r_state)\n",
    "print(\"For Main Data Set :\",df['Attrition'].count())\n",
    "print(\"For Train Set :\",train['Attrition'].count())\n",
    "print(\"For Test Set :\",test['Attrition'].count())\n",
    "\n",
    "x_train=train.drop(train.columns[1], axis = 1)\n",
    "x_test=test.drop(test.columns[1], axis = 1)\n",
    "y_train=train['Attrition']\n",
    "y_test=test['Attrition']"
   ]
  },
  {
   "cell_type": "code",
   "execution_count": 4,
   "metadata": {},
   "outputs": [
    {
     "name": "stdout",
     "output_type": "stream",
     "text": [
      "The top accuracy forecast with cross validation is 84.2%\n",
      "Obtained with min_impurity_decrease = 0.0\n",
      "The accuracy on full training set is 100.0%\n",
      "True         0   1\n",
      "Predicted         \n",
      "0          267  28\n",
      "1           45  28\n",
      "             precision    recall  f1-score   support\n",
      "\n",
      "          0       0.91      0.86      0.88       312\n",
      "          1       0.38      0.50      0.43        56\n",
      "\n",
      "avg / total       0.83      0.80      0.81       368\n",
      "\n",
      "0.801630434783\n",
      "Duration: --- 0.024757564067840576 Minutes ---\n",
      "ROC AUC: 0.68\n"
     ]
    },
    {
     "data": {
      "image/png": "[encoded data removed]",
      "text/plain": [
       "<matplotlib.figure.Figure at 0x22bee56be80>"
      ]
     },
     "metadata": {},
     "output_type": "display_data"
    },
    {
     "data": {
      "image/png": "[encoded data removed]",
      "text/plain": [
       "<matplotlib.figure.Figure at 0x22bee682588>"
      ]
     },
     "metadata": {},
     "output_type": "display_data"
    },
    {
     "name": "stdout",
     "output_type": "stream",
     "text": [
      "Kappa score is :0.316368078176\n"
     ]
    }
   ],
   "source": [
    "r_state=52\n",
    "avg_scores = []\n",
    "parameter_values = np.arange(0,0.1, 0.01)\n",
    "for mid in parameter_values:\n",
    "    estimator = tree.DecisionTreeClassifier(criterion=\"entropy\", random_state = r_state, min_impurity_decrease = mid)\n",
    "    scores = cross_val_score(estimator, x_train, y_train, scoring='accuracy', cv = 10)\n",
    "    avg_scores.append(np.mean(scores))\n",
    "#print(avg_scores)\n",
    "\n",
    "plt.figure(figsize=(5,5))\n",
    "plt.plot(parameter_values, avg_scores, '-o', linewidth=2, markersize=5)\n",
    "print(\"The top accuracy forecast with cross validation is {0:.1f}%\".format(avg_scores[np.argmax(avg_scores)]*100))\n",
    "print(\"Obtained with min_impurity_decrease = {0:.1f}\".format(parameter_values[np.argmax(avg_scores)]))\n",
    "\n",
    "estimator = tree.DecisionTreeClassifier(criterion=\"entropy\", random_state = r_state,\n",
    "                                        min_impurity_decrease = 0.0)\n",
    "estimator.fit(x_train,y_train)\n",
    "y_predicted = estimator.predict(x_train)\n",
    "accuracy_full = np.mean( y_train== y_predicted) * 100\n",
    "print(\"The accuracy on full training set is {0:.1f}%\".format(accuracy_full))\n",
    "\n",
    "\n",
    "model=estimator\n",
    "pred=model.predict(x_test)\n",
    "cm_df = pd.DataFrame(confusion_matrix(y_test, pred).T, index=model.classes_,\n",
    "                     columns=model.classes_)\n",
    "cm_df.index.name = 'Predicted'\n",
    "cm_df.columns.name = 'True'\n",
    "print(cm_df)\n",
    "print(classification_report(y_test, pred))\n",
    "print(model.score(x_test,y_test))\n",
    "\n",
    "print(\"Duration: --- %s Minutes ---\" % ((time.time() - start_time)/60))\n",
    "\n",
    "fpr, tpr, _ = roc_curve(y_test, pred)\n",
    " \n",
    "# Calculate the AUC\n",
    "roc_auc = auc(fpr, tpr)\n",
    "print('ROC AUC: %0.2f' % roc_auc)\n",
    " \n",
    "# Plot of a ROC curve for a specific class\n",
    "plt.figure()\n",
    "plt.plot(fpr, tpr, label='ROC curve (area = %0.2f)' % roc_auc)\n",
    "plt.plot([0, 1], [0, 1], 'k--')\n",
    "plt.xlim([0.0, 1.0])\n",
    "plt.ylim([0.0, 1.05])\n",
    "plt.xlabel('False Positive Rate')\n",
    "plt.ylabel('True Positive Rate')\n",
    "plt.title('ROC Curve')\n",
    "plt.legend(loc=\"lower right\")\n",
    "plt.show()\n",
    "\n",
    "from sklearn.metrics import cohen_kappa_score\n",
    "print(\"Kappa score is :\"+str(cohen_kappa_score(y_test,pred)))"
   ]
  },
  {
   "cell_type": "markdown",
   "metadata": {},
   "source": [
    "#### Lets feed Dtree output to another XGBOOST model "
   ]
  },
  {
   "cell_type": "markdown",
   "metadata": {},
   "source": [
    "##### Commencing forward stacking process"
   ]
  },
  {
   "cell_type": "code",
   "execution_count": 5,
   "metadata": {
    "collapsed": true
   },
   "outputs": [],
   "source": [
    "pred_train=model.predict(x_train)\n",
    "pred_test=model.predict(x_test)\n",
    "\n",
    "x_train['FeedFrom1']=pred_train\n",
    "x_test['FeedFrom1']=pred_test\n",
    "\n",
    "xgd_train=xgb.DMatrix(data=x_train,label=y_train)\n",
    "xgd_test=xgb.DMatrix(data=x_test,label=y_test)"
   ]
  },
  {
   "cell_type": "code",
   "execution_count": 6,
   "metadata": {},
   "outputs": [
    {
     "name": "stdout",
     "output_type": "stream",
     "text": [
      "Training accuracy: 1.000000\n",
      "Testing accuracy: 0.801630\n"
     ]
    }
   ],
   "source": [
    "params = {\"objective\":\"binary:logistic\", \"max_depth\":4,\"nthread\":5,\"learning_rate\":0.1,\n",
    "         \"subsample\":0.2,\"colsample_bytree\":0.3,\"n_estimators\":20,\"seed\":52}\n",
    "\n",
    "# Instantiate the XGBClassifier: xg_cl\n",
    "xg_cl = xgb.XGBClassifier(params=params)\n",
    "\n",
    "# Fit the classifier to the training set\n",
    "xg_cl.fit(x_train, y_train)\n",
    "\n",
    "# Predict the labels of the train set\n",
    "preds_train = xg_cl.predict(x_train)\n",
    "\n",
    "# Compute the accuracy: accuracy\n",
    "accuracy = float(np.sum(preds_train==y_train))/y_train.shape[0]\n",
    "print(\"Training accuracy: %f\" % (accuracy))\n",
    "\n",
    "# Predict the labels of the test set\n",
    "preds_test = xg_cl.predict(x_test)\n",
    "\n",
    "# Compute the accuracy: accuracy\n",
    "accuracy = float(np.sum(preds_test==y_test))/y_test.shape[0]\n",
    "print(\"Testing accuracy: %f\" % (accuracy))"
   ]
  },
  {
   "cell_type": "code",
   "execution_count": 7,
   "metadata": {},
   "outputs": [
    {
     "name": "stdout",
     "output_type": "stream",
     "text": [
      "True         0   1\n",
      "Predicted         \n",
      "0          267  28\n",
      "1           45  28\n",
      "             precision    recall  f1-score   support\n",
      "\n",
      "          0       0.91      0.86      0.88       312\n",
      "          1       0.38      0.50      0.43        56\n",
      "\n",
      "avg / total       0.83      0.80      0.81       368\n",
      "\n",
      "0.801630434783\n",
      "Duration: --- 0.03993180990219116 Minutes ---\n",
      "ROC AUC: 0.68\n"
     ]
    },
    {
     "data": {
      "image/png": "[encoded data removed]",
      "text/plain": [
       "<matplotlib.figure.Figure at 0x22bee682f28>"
      ]
     },
     "metadata": {},
     "output_type": "display_data"
    },
    {
     "name": "stdout",
     "output_type": "stream",
     "text": [
      "Kappa score is :0.316368078176\n"
     ]
    }
   ],
   "source": [
    "model=xg_cl\n",
    "pred=model.predict(x_test)\n",
    "cm_df = pd.DataFrame(confusion_matrix(y_test, pred).T, index=model.classes_,\n",
    "                     columns=model.classes_)\n",
    "cm_df.index.name = 'Predicted'\n",
    "cm_df.columns.name = 'True'\n",
    "print(cm_df)\n",
    "print(classification_report(y_test, pred))\n",
    "print(model.score(x_test,y_test))\n",
    "\n",
    "print(\"Duration: --- %s Minutes ---\" % ((time.time() - start_time)/60))\n",
    "\n",
    "fpr, tpr, _ = roc_curve(y_test, pred)\n",
    " \n",
    "# Calculate the AUC\n",
    "roc_auc = auc(fpr, tpr)\n",
    "print('ROC AUC: %0.2f' % roc_auc)\n",
    " \n",
    "# Plot of a ROC curve for a specific class\n",
    "plt.figure()\n",
    "plt.plot(fpr, tpr, label='ROC curve (area = %0.2f)' % roc_auc)\n",
    "plt.plot([0, 1], [0, 1], 'k--')\n",
    "plt.xlim([0.0, 1.0])\n",
    "plt.ylim([0.0, 1.05])\n",
    "plt.xlabel('False Positive Rate')\n",
    "plt.ylabel('True Positive Rate')\n",
    "plt.title('ROC Curve')\n",
    "plt.legend(loc=\"lower right\")\n",
    "plt.show()\n",
    "\n",
    "from sklearn.metrics import cohen_kappa_score\n",
    "print(\"Kappa score is :\"+str(cohen_kappa_score(y_test,pred)))"
   ]
  },
  {
   "cell_type": "markdown",
   "metadata": {},
   "source": [
    "#### Stacking does not seem to improve accuracy instead it is hampering with our predictions"
   ]
  }
 ],
 "metadata": {
  "kernelspec": {
   "display_name": "Python 3",
   "language": "python",
   "name": "python3"
  },
  "language_info": {
   "codemirror_mode": {
    "name": "ipython",
    "version": 3
   },
   "file_extension": ".py",
   "mimetype": "text/x-python",
   "name": "python",
   "nbconvert_exporter": "python",
   "pygments_lexer": "ipython3",
   "version": "3.6.1"
  }
 },
 "nbformat": 4,
 "nbformat_minor": 2
}
